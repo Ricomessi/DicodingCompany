{
 "cells": [
  {
   "cell_type": "code",
   "execution_count": 45,
   "id": "86d9053d-2a6c-4b50-96f3-ccaf5a97cae1",
   "metadata": {},
   "outputs": [],
   "source": [
    "import pandas as pd\n",
    "from sklearn.cluster import KMeans\n",
    "from sklearn.preprocessing import LabelEncoder\n",
    "from sklearn.feature_extraction.text import TfidfVectorizer\n",
    "from sklearn.preprocessing import StandardScaler\n",
    "import tensorflow as tf\n",
    "from tensorflow.keras.layers import LeakyReLU\n",
    "import numpy as np\n",
    "import nltk\n",
    "from nltk.corpus import stopwords\n",
    "import joblib\n",
    "from sklearn.preprocessing import StandardScaler\n",
    "from sklearn.model_selection import train_test_split\n",
    "from tensorflow.keras.callbacks import EarlyStopping\n",
    "from tensorflow.keras.optimizers import Adam\n",
    "from tensorflow.keras.layers import LeakyReLU, Dropout\n",
    "from tensorflow.keras.losses import Huber\n",
    "from tensorflow.keras.regularizers import l2"
   ]
  },
  {
   "cell_type": "code",
   "execution_count": 29,
   "id": "cd20a168-df95-4c4d-b0ff-57d5ca8a4ab6",
   "metadata": {},
   "outputs": [
    {
     "data": {
      "text/html": [
       "<div>\n",
       "<style scoped>\n",
       "    .dataframe tbody tr th:only-of-type {\n",
       "        vertical-align: middle;\n",
       "    }\n",
       "\n",
       "    .dataframe tbody tr th {\n",
       "        vertical-align: top;\n",
       "    }\n",
       "\n",
       "    .dataframe thead th {\n",
       "        text-align: right;\n",
       "    }\n",
       "</style>\n",
       "<table border=\"1\" class=\"dataframe\">\n",
       "  <thead>\n",
       "    <tr style=\"text-align: right;\">\n",
       "      <th></th>\n",
       "      <th>Learning Path ID</th>\n",
       "      <th>Learning Path</th>\n",
       "      <th>Learning Path Summary</th>\n",
       "      <th>Course ID</th>\n",
       "      <th>Course Name_x</th>\n",
       "      <th>Course Summary</th>\n",
       "      <th>Price</th>\n",
       "      <th>Level</th>\n",
       "      <th>Total Jam Belajar</th>\n",
       "      <th>Rating</th>\n",
       "      <th>Jumlah Enrollment</th>\n",
       "      <th>Jumlah Modul/Tutorial</th>\n",
       "      <th>Judul Modul/Tutorial</th>\n",
       "    </tr>\n",
       "  </thead>\n",
       "  <tbody>\n",
       "    <tr>\n",
       "      <th>0</th>\n",
       "      <td>7</td>\n",
       "      <td>Android Developer</td>\n",
       "      <td>Kurikulum didesain dengan persetujuan dari Tim...</td>\n",
       "      <td>80</td>\n",
       "      <td>Memulai Pemrograman dengan Kotlin</td>\n",
       "      <td>Pelajari dasar bahasa pemrograman, functional ...</td>\n",
       "      <td>Berbayar</td>\n",
       "      <td>Dasar</td>\n",
       "      <td>50</td>\n",
       "      <td>4.84</td>\n",
       "      <td>67917</td>\n",
       "      <td>132</td>\n",
       "      <td>Latihan Ujian</td>\n",
       "    </tr>\n",
       "    <tr>\n",
       "      <th>1</th>\n",
       "      <td>7</td>\n",
       "      <td>Android Developer</td>\n",
       "      <td>Kurikulum didesain dengan persetujuan dari Tim...</td>\n",
       "      <td>80</td>\n",
       "      <td>Memulai Pemrograman dengan Kotlin</td>\n",
       "      <td>Pelajari dasar bahasa pemrograman, functional ...</td>\n",
       "      <td>Berbayar</td>\n",
       "      <td>Dasar</td>\n",
       "      <td>50</td>\n",
       "      <td>4.84</td>\n",
       "      <td>67917</td>\n",
       "      <td>132</td>\n",
       "      <td>Pengenalan Kotlin</td>\n",
       "    </tr>\n",
       "    <tr>\n",
       "      <th>2</th>\n",
       "      <td>7</td>\n",
       "      <td>Android Developer</td>\n",
       "      <td>Kurikulum didesain dengan persetujuan dari Tim...</td>\n",
       "      <td>80</td>\n",
       "      <td>Memulai Pemrograman dengan Kotlin</td>\n",
       "      <td>Pelajari dasar bahasa pemrograman, functional ...</td>\n",
       "      <td>Berbayar</td>\n",
       "      <td>Dasar</td>\n",
       "      <td>50</td>\n",
       "      <td>4.84</td>\n",
       "      <td>67917</td>\n",
       "      <td>132</td>\n",
       "      <td>Kotlin Sebagai Bahasa Multiparadigm</td>\n",
       "    </tr>\n",
       "    <tr>\n",
       "      <th>3</th>\n",
       "      <td>7</td>\n",
       "      <td>Android Developer</td>\n",
       "      <td>Kurikulum didesain dengan persetujuan dari Tim...</td>\n",
       "      <td>80</td>\n",
       "      <td>Memulai Pemrograman dengan Kotlin</td>\n",
       "      <td>Pelajari dasar bahasa pemrograman, functional ...</td>\n",
       "      <td>Berbayar</td>\n",
       "      <td>Dasar</td>\n",
       "      <td>50</td>\n",
       "      <td>4.84</td>\n",
       "      <td>67917</td>\n",
       "      <td>132</td>\n",
       "      <td>Kotlin Sebagai Bahasa Multiplatform</td>\n",
       "    </tr>\n",
       "    <tr>\n",
       "      <th>4</th>\n",
       "      <td>7</td>\n",
       "      <td>Android Developer</td>\n",
       "      <td>Kurikulum didesain dengan persetujuan dari Tim...</td>\n",
       "      <td>80</td>\n",
       "      <td>Memulai Pemrograman dengan Kotlin</td>\n",
       "      <td>Pelajari dasar bahasa pemrograman, functional ...</td>\n",
       "      <td>Berbayar</td>\n",
       "      <td>Dasar</td>\n",
       "      <td>50</td>\n",
       "      <td>4.84</td>\n",
       "      <td>67917</td>\n",
       "      <td>132</td>\n",
       "      <td>Kotlin untuk Aplikasi Server-side</td>\n",
       "    </tr>\n",
       "  </tbody>\n",
       "</table>\n",
       "</div>"
      ],
      "text/plain": [
       "  Learning Path ID      Learning Path  \\\n",
       "0                7  Android Developer   \n",
       "1                7  Android Developer   \n",
       "2                7  Android Developer   \n",
       "3                7  Android Developer   \n",
       "4                7  Android Developer   \n",
       "\n",
       "                               Learning Path Summary  Course ID  \\\n",
       "0  Kurikulum didesain dengan persetujuan dari Tim...         80   \n",
       "1  Kurikulum didesain dengan persetujuan dari Tim...         80   \n",
       "2  Kurikulum didesain dengan persetujuan dari Tim...         80   \n",
       "3  Kurikulum didesain dengan persetujuan dari Tim...         80   \n",
       "4  Kurikulum didesain dengan persetujuan dari Tim...         80   \n",
       "\n",
       "                       Course Name_x  \\\n",
       "0  Memulai Pemrograman dengan Kotlin   \n",
       "1  Memulai Pemrograman dengan Kotlin   \n",
       "2  Memulai Pemrograman dengan Kotlin   \n",
       "3  Memulai Pemrograman dengan Kotlin   \n",
       "4  Memulai Pemrograman dengan Kotlin   \n",
       "\n",
       "                                      Course Summary     Price  Level  \\\n",
       "0  Pelajari dasar bahasa pemrograman, functional ...  Berbayar  Dasar   \n",
       "1  Pelajari dasar bahasa pemrograman, functional ...  Berbayar  Dasar   \n",
       "2  Pelajari dasar bahasa pemrograman, functional ...  Berbayar  Dasar   \n",
       "3  Pelajari dasar bahasa pemrograman, functional ...  Berbayar  Dasar   \n",
       "4  Pelajari dasar bahasa pemrograman, functional ...  Berbayar  Dasar   \n",
       "\n",
       "   Total Jam Belajar  Rating  Jumlah Enrollment  Jumlah Modul/Tutorial  \\\n",
       "0                 50    4.84              67917                    132   \n",
       "1                 50    4.84              67917                    132   \n",
       "2                 50    4.84              67917                    132   \n",
       "3                 50    4.84              67917                    132   \n",
       "4                 50    4.84              67917                    132   \n",
       "\n",
       "                  Judul Modul/Tutorial  \n",
       "0                        Latihan Ujian  \n",
       "1                    Pengenalan Kotlin  \n",
       "2  Kotlin Sebagai Bahasa Multiparadigm  \n",
       "3  Kotlin Sebagai Bahasa Multiplatform  \n",
       "4    Kotlin untuk Aplikasi Server-side  "
      ]
     },
     "execution_count": 29,
     "metadata": {},
     "output_type": "execute_result"
    }
   ],
   "source": [
    "data = pd.read_csv(\"data/updatemergedata.csv\")\n",
    "data.head()"
   ]
  },
  {
   "cell_type": "code",
   "execution_count": 30,
   "id": "9387a01f-d826-46b0-b59e-6164860b3605",
   "metadata": {},
   "outputs": [],
   "source": [
    "label_encoder = LabelEncoder()\n",
    "data['Level'] = label_encoder.fit_transform(data['Level']) \n",
    "data['Price'] = data['Price'].map({'Berbayar': 1, 'Gratis': 0})"
   ]
  },
  {
   "cell_type": "code",
   "execution_count": 31,
   "id": "f6d6e6d0-9ae4-4fa2-a0c2-20aee6ffcdca",
   "metadata": {},
   "outputs": [
    {
     "name": "stderr",
     "output_type": "stream",
     "text": [
      "C:\\Users\\Rico Mesias\\OneDrive\\Documents\\VsCode\\DicodingCompany\\venv\\lib\\site-packages\\sklearn\\feature_extraction\\text.py:406: UserWarning: Your stop_words may be inconsistent with your preprocessing. Tokenizing the stop words generated tokens ['baiknya', 'berkali', 'kali', 'kurangnya', 'mata', 'olah', 'sekurang', 'setidak', 'tama', 'tidaknya'] not in stop_words.\n",
      "  warnings.warn(\n"
     ]
    }
   ],
   "source": [
    "indonesian_stopwords = stopwords.words('indonesian')\n",
    "data['Combined Summary'] = data['Course Summary'] + ' ' + data['Learning Path Summary']\n",
    "tfidf = TfidfVectorizer(stop_words=indonesian_stopwords)\n",
    "tfidf_matrix = tfidf.fit_transform(data['Combined Summary'])"
   ]
  },
  {
   "cell_type": "code",
   "execution_count": 46,
   "id": "43ef71f1-dc3b-472c-9608-33ae5b950b2d",
   "metadata": {},
   "outputs": [
    {
     "name": "stdout",
     "output_type": "stream",
     "text": [
      "Epoch 1/50\n",
      "\u001b[1m76/76\u001b[0m \u001b[32m━━━━━━━━━━━━━━━━━━━━\u001b[0m\u001b[37m\u001b[0m \u001b[1m1s\u001b[0m 3ms/step - loss: 3.4611 - val_loss: 1.1670\n",
      "Epoch 2/50\n",
      "\u001b[1m76/76\u001b[0m \u001b[32m━━━━━━━━━━━━━━━━━━━━\u001b[0m\u001b[37m\u001b[0m \u001b[1m0s\u001b[0m 2ms/step - loss: 0.8229 - val_loss: 0.4500\n",
      "Epoch 3/50\n",
      "\u001b[1m76/76\u001b[0m \u001b[32m━━━━━━━━━━━━━━━━━━━━\u001b[0m\u001b[37m\u001b[0m \u001b[1m0s\u001b[0m 2ms/step - loss: 0.3189 - val_loss: 0.2814\n",
      "Epoch 4/50\n",
      "\u001b[1m76/76\u001b[0m \u001b[32m━━━━━━━━━━━━━━━━━━━━\u001b[0m\u001b[37m\u001b[0m \u001b[1m0s\u001b[0m 2ms/step - loss: 0.1989 - val_loss: 0.2406\n",
      "Epoch 5/50\n",
      "\u001b[1m76/76\u001b[0m \u001b[32m━━━━━━━━━━━━━━━━━━━━\u001b[0m\u001b[37m\u001b[0m \u001b[1m0s\u001b[0m 2ms/step - loss: 0.1707 - val_loss: 0.2311\n",
      "Epoch 6/50\n",
      "\u001b[1m76/76\u001b[0m \u001b[32m━━━━━━━━━━━━━━━━━━━━\u001b[0m\u001b[37m\u001b[0m \u001b[1m0s\u001b[0m 2ms/step - loss: 0.1625 - val_loss: 0.2287\n",
      "Epoch 7/50\n",
      "\u001b[1m76/76\u001b[0m \u001b[32m━━━━━━━━━━━━━━━━━━━━\u001b[0m\u001b[37m\u001b[0m \u001b[1m0s\u001b[0m 2ms/step - loss: 0.1618 - val_loss: 0.2285\n",
      "Epoch 8/50\n",
      "\u001b[1m76/76\u001b[0m \u001b[32m━━━━━━━━━━━━━━━━━━━━\u001b[0m\u001b[37m\u001b[0m \u001b[1m0s\u001b[0m 2ms/step - loss: 0.1618 - val_loss: 0.2283\n",
      "Epoch 9/50\n",
      "\u001b[1m76/76\u001b[0m \u001b[32m━━━━━━━━━━━━━━━━━━━━\u001b[0m\u001b[37m\u001b[0m \u001b[1m0s\u001b[0m 2ms/step - loss: 0.1606 - val_loss: 0.2280\n",
      "Epoch 10/50\n",
      "\u001b[1m76/76\u001b[0m \u001b[32m━━━━━━━━━━━━━━━━━━━━\u001b[0m\u001b[37m\u001b[0m \u001b[1m0s\u001b[0m 2ms/step - loss: 0.1604 - val_loss: 0.2279\n",
      "Epoch 11/50\n",
      "\u001b[1m76/76\u001b[0m \u001b[32m━━━━━━━━━━━━━━━━━━━━\u001b[0m\u001b[37m\u001b[0m \u001b[1m0s\u001b[0m 2ms/step - loss: 0.1612 - val_loss: 0.2279\n",
      "Epoch 12/50\n",
      "\u001b[1m76/76\u001b[0m \u001b[32m━━━━━━━━━━━━━━━━━━━━\u001b[0m\u001b[37m\u001b[0m \u001b[1m0s\u001b[0m 2ms/step - loss: 0.1608 - val_loss: 0.2276\n",
      "Epoch 13/50\n",
      "\u001b[1m76/76\u001b[0m \u001b[32m━━━━━━━━━━━━━━━━━━━━\u001b[0m\u001b[37m\u001b[0m \u001b[1m0s\u001b[0m 2ms/step - loss: 0.1607 - val_loss: 0.2282\n",
      "Epoch 14/50\n",
      "\u001b[1m76/76\u001b[0m \u001b[32m━━━━━━━━━━━━━━━━━━━━\u001b[0m\u001b[37m\u001b[0m \u001b[1m0s\u001b[0m 2ms/step - loss: 0.1606 - val_loss: 0.2272\n",
      "Epoch 15/50\n",
      "\u001b[1m76/76\u001b[0m \u001b[32m━━━━━━━━━━━━━━━━━━━━\u001b[0m\u001b[37m\u001b[0m \u001b[1m0s\u001b[0m 2ms/step - loss: 0.1611 - val_loss: 0.2275\n",
      "Epoch 16/50\n",
      "\u001b[1m76/76\u001b[0m \u001b[32m━━━━━━━━━━━━━━━━━━━━\u001b[0m\u001b[37m\u001b[0m \u001b[1m0s\u001b[0m 2ms/step - loss: 0.1597 - val_loss: 0.2274\n",
      "Epoch 17/50\n",
      "\u001b[1m76/76\u001b[0m \u001b[32m━━━━━━━━━━━━━━━━━━━━\u001b[0m\u001b[37m\u001b[0m \u001b[1m0s\u001b[0m 2ms/step - loss: 0.1604 - val_loss: 0.2277\n"
     ]
    }
   ],
   "source": [
    "# Data preprocessing\n",
    "scaler = StandardScaler()\n",
    "X_scaled = scaler.fit_transform(X)  # Pastikan X adalah dataset Anda\n",
    "\n",
    "# Membuat arsitektur Autoencoder dengan Regularisasi L2 dan Dropout lebih tinggi\n",
    "input_dim = X_scaled.shape[1]  # Menentukan dimensi input\n",
    "\n",
    "input_layer = tf.keras.layers.Input(shape=(input_dim,))  # Layer input\n",
    "encoded = tf.keras.layers.Dense(128, kernel_regularizer=l2(0.01))(input_layer)  # Regularisasi L2 pada Dense layer\n",
    "encoded = LeakyReLU(negative_slope=0.01)(encoded)  # Aktivasi Leaky ReLU\n",
    "encoded = Dropout(0.3)(encoded)  # Dropout lebih tinggi\n",
    "encoded = tf.keras.layers.Dense(64, kernel_regularizer=l2(0.01))(encoded)  # Regularisasi L2 pada Dense layer\n",
    "encoded = LeakyReLU(negative_slope=0.01)(encoded)\n",
    "encoded = Dropout(0.3)(encoded)\n",
    "encoded = tf.keras.layers.Dense(32, kernel_regularizer=l2(0.01))(encoded)  # Regularisasi L2 pada Dense layer\n",
    "\n",
    "# Decoding bagian\n",
    "decoded = tf.keras.layers.Dense(64, kernel_regularizer=l2(0.01))(encoded)  # Regularisasi L2\n",
    "decoded = LeakyReLU(negative_slope=0.01)(decoded)\n",
    "decoded = tf.keras.layers.Dense(128, kernel_regularizer=l2(0.01))(decoded)  # Regularisasi L2\n",
    "decoded = LeakyReLU(negative_slope=0.01)(decoded)\n",
    "decoded = tf.keras.layers.Dense(input_dim, activation='sigmoid')(decoded)  # Output layer\n",
    "\n",
    "# Membuat model Autoencoder\n",
    "autoencoder = tf.keras.models.Model(input_layer, decoded)\n",
    "\n",
    "# Menggunakan Adam optimizer dengan learning rate kecil dan Huber loss\n",
    "optimizer = Adam(learning_rate=0.001)\n",
    "autoencoder.compile(optimizer=optimizer, loss=Huber())\n",
    "\n",
    "# Menambahkan EarlyStopping dengan ketat\n",
    "early_stopping = EarlyStopping(monitor='val_loss', patience=3, restore_best_weights=True)  # Kurangi patience untuk lebih cepat berhenti\n",
    "\n",
    "# Melatih model dengan data scaling\n",
    "history = autoencoder.fit(\n",
    "    X_scaled, X_scaled,  # Input dan output sama untuk autoencoder\n",
    "    epochs=50,\n",
    "    batch_size=64,\n",
    "    shuffle=True,\n",
    "    validation_split=0.2,  # Menggunakan 20% data untuk validasi\n",
    "    callbacks=[early_stopping]  # Early stopping\n",
    ")"
   ]
  },
  {
   "cell_type": "code",
   "execution_count": 40,
   "id": "2e1a95c4-2fd8-4f4b-8778-49959696e823",
   "metadata": {},
   "outputs": [
    {
     "data": {
      "text/html": [
       "<pre style=\"white-space:pre;overflow-x:auto;line-height:normal;font-family:Menlo,'DejaVu Sans Mono',consolas,'Courier New',monospace\"><span style=\"font-weight: bold\">Model: \"functional_5\"</span>\n",
       "</pre>\n"
      ],
      "text/plain": [
       "\u001b[1mModel: \"functional_5\"\u001b[0m\n"
      ]
     },
     "metadata": {},
     "output_type": "display_data"
    },
    {
     "data": {
      "text/html": [
       "<pre style=\"white-space:pre;overflow-x:auto;line-height:normal;font-family:Menlo,'DejaVu Sans Mono',consolas,'Courier New',monospace\">┏━━━━━━━━━━━━━━━━━━━━━━━━━━━━━━━━━━━━━━┳━━━━━━━━━━━━━━━━━━━━━━━━━━━━━┳━━━━━━━━━━━━━━━━━┓\n",
       "┃<span style=\"font-weight: bold\"> Layer (type)                         </span>┃<span style=\"font-weight: bold\"> Output Shape                </span>┃<span style=\"font-weight: bold\">         Param # </span>┃\n",
       "┡━━━━━━━━━━━━━━━━━━━━━━━━━━━━━━━━━━━━━━╇━━━━━━━━━━━━━━━━━━━━━━━━━━━━━╇━━━━━━━━━━━━━━━━━┩\n",
       "│ input_layer_5 (<span style=\"color: #0087ff; text-decoration-color: #0087ff\">InputLayer</span>)           │ (<span style=\"color: #00d7ff; text-decoration-color: #00d7ff\">None</span>, <span style=\"color: #00af00; text-decoration-color: #00af00\">397</span>)                 │               <span style=\"color: #00af00; text-decoration-color: #00af00\">0</span> │\n",
       "├──────────────────────────────────────┼─────────────────────────────┼─────────────────┤\n",
       "│ dense_30 (<span style=\"color: #0087ff; text-decoration-color: #0087ff\">Dense</span>)                     │ (<span style=\"color: #00d7ff; text-decoration-color: #00d7ff\">None</span>, <span style=\"color: #00af00; text-decoration-color: #00af00\">128</span>)                 │          <span style=\"color: #00af00; text-decoration-color: #00af00\">50,944</span> │\n",
       "├──────────────────────────────────────┼─────────────────────────────┼─────────────────┤\n",
       "│ leaky_re_lu_12 (<span style=\"color: #0087ff; text-decoration-color: #0087ff\">LeakyReLU</span>)           │ (<span style=\"color: #00d7ff; text-decoration-color: #00d7ff\">None</span>, <span style=\"color: #00af00; text-decoration-color: #00af00\">128</span>)                 │               <span style=\"color: #00af00; text-decoration-color: #00af00\">0</span> │\n",
       "├──────────────────────────────────────┼─────────────────────────────┼─────────────────┤\n",
       "│ dropout_6 (<span style=\"color: #0087ff; text-decoration-color: #0087ff\">Dropout</span>)                  │ (<span style=\"color: #00d7ff; text-decoration-color: #00d7ff\">None</span>, <span style=\"color: #00af00; text-decoration-color: #00af00\">128</span>)                 │               <span style=\"color: #00af00; text-decoration-color: #00af00\">0</span> │\n",
       "├──────────────────────────────────────┼─────────────────────────────┼─────────────────┤\n",
       "│ dense_31 (<span style=\"color: #0087ff; text-decoration-color: #0087ff\">Dense</span>)                     │ (<span style=\"color: #00d7ff; text-decoration-color: #00d7ff\">None</span>, <span style=\"color: #00af00; text-decoration-color: #00af00\">64</span>)                  │           <span style=\"color: #00af00; text-decoration-color: #00af00\">8,256</span> │\n",
       "├──────────────────────────────────────┼─────────────────────────────┼─────────────────┤\n",
       "│ leaky_re_lu_13 (<span style=\"color: #0087ff; text-decoration-color: #0087ff\">LeakyReLU</span>)           │ (<span style=\"color: #00d7ff; text-decoration-color: #00d7ff\">None</span>, <span style=\"color: #00af00; text-decoration-color: #00af00\">64</span>)                  │               <span style=\"color: #00af00; text-decoration-color: #00af00\">0</span> │\n",
       "├──────────────────────────────────────┼─────────────────────────────┼─────────────────┤\n",
       "│ dropout_7 (<span style=\"color: #0087ff; text-decoration-color: #0087ff\">Dropout</span>)                  │ (<span style=\"color: #00d7ff; text-decoration-color: #00d7ff\">None</span>, <span style=\"color: #00af00; text-decoration-color: #00af00\">64</span>)                  │               <span style=\"color: #00af00; text-decoration-color: #00af00\">0</span> │\n",
       "├──────────────────────────────────────┼─────────────────────────────┼─────────────────┤\n",
       "│ dense_32 (<span style=\"color: #0087ff; text-decoration-color: #0087ff\">Dense</span>)                     │ (<span style=\"color: #00d7ff; text-decoration-color: #00d7ff\">None</span>, <span style=\"color: #00af00; text-decoration-color: #00af00\">32</span>)                  │           <span style=\"color: #00af00; text-decoration-color: #00af00\">2,080</span> │\n",
       "├──────────────────────────────────────┼─────────────────────────────┼─────────────────┤\n",
       "│ dense_33 (<span style=\"color: #0087ff; text-decoration-color: #0087ff\">Dense</span>)                     │ (<span style=\"color: #00d7ff; text-decoration-color: #00d7ff\">None</span>, <span style=\"color: #00af00; text-decoration-color: #00af00\">64</span>)                  │           <span style=\"color: #00af00; text-decoration-color: #00af00\">2,112</span> │\n",
       "├──────────────────────────────────────┼─────────────────────────────┼─────────────────┤\n",
       "│ leaky_re_lu_14 (<span style=\"color: #0087ff; text-decoration-color: #0087ff\">LeakyReLU</span>)           │ (<span style=\"color: #00d7ff; text-decoration-color: #00d7ff\">None</span>, <span style=\"color: #00af00; text-decoration-color: #00af00\">64</span>)                  │               <span style=\"color: #00af00; text-decoration-color: #00af00\">0</span> │\n",
       "├──────────────────────────────────────┼─────────────────────────────┼─────────────────┤\n",
       "│ dense_34 (<span style=\"color: #0087ff; text-decoration-color: #0087ff\">Dense</span>)                     │ (<span style=\"color: #00d7ff; text-decoration-color: #00d7ff\">None</span>, <span style=\"color: #00af00; text-decoration-color: #00af00\">128</span>)                 │           <span style=\"color: #00af00; text-decoration-color: #00af00\">8,320</span> │\n",
       "├──────────────────────────────────────┼─────────────────────────────┼─────────────────┤\n",
       "│ leaky_re_lu_15 (<span style=\"color: #0087ff; text-decoration-color: #0087ff\">LeakyReLU</span>)           │ (<span style=\"color: #00d7ff; text-decoration-color: #00d7ff\">None</span>, <span style=\"color: #00af00; text-decoration-color: #00af00\">128</span>)                 │               <span style=\"color: #00af00; text-decoration-color: #00af00\">0</span> │\n",
       "├──────────────────────────────────────┼─────────────────────────────┼─────────────────┤\n",
       "│ dense_35 (<span style=\"color: #0087ff; text-decoration-color: #0087ff\">Dense</span>)                     │ (<span style=\"color: #00d7ff; text-decoration-color: #00d7ff\">None</span>, <span style=\"color: #00af00; text-decoration-color: #00af00\">397</span>)                 │          <span style=\"color: #00af00; text-decoration-color: #00af00\">51,213</span> │\n",
       "└──────────────────────────────────────┴─────────────────────────────┴─────────────────┘\n",
       "</pre>\n"
      ],
      "text/plain": [
       "┏━━━━━━━━━━━━━━━━━━━━━━━━━━━━━━━━━━━━━━┳━━━━━━━━━━━━━━━━━━━━━━━━━━━━━┳━━━━━━━━━━━━━━━━━┓\n",
       "┃\u001b[1m \u001b[0m\u001b[1mLayer (type)                        \u001b[0m\u001b[1m \u001b[0m┃\u001b[1m \u001b[0m\u001b[1mOutput Shape               \u001b[0m\u001b[1m \u001b[0m┃\u001b[1m \u001b[0m\u001b[1m        Param #\u001b[0m\u001b[1m \u001b[0m┃\n",
       "┡━━━━━━━━━━━━━━━━━━━━━━━━━━━━━━━━━━━━━━╇━━━━━━━━━━━━━━━━━━━━━━━━━━━━━╇━━━━━━━━━━━━━━━━━┩\n",
       "│ input_layer_5 (\u001b[38;5;33mInputLayer\u001b[0m)           │ (\u001b[38;5;45mNone\u001b[0m, \u001b[38;5;34m397\u001b[0m)                 │               \u001b[38;5;34m0\u001b[0m │\n",
       "├──────────────────────────────────────┼─────────────────────────────┼─────────────────┤\n",
       "│ dense_30 (\u001b[38;5;33mDense\u001b[0m)                     │ (\u001b[38;5;45mNone\u001b[0m, \u001b[38;5;34m128\u001b[0m)                 │          \u001b[38;5;34m50,944\u001b[0m │\n",
       "├──────────────────────────────────────┼─────────────────────────────┼─────────────────┤\n",
       "│ leaky_re_lu_12 (\u001b[38;5;33mLeakyReLU\u001b[0m)           │ (\u001b[38;5;45mNone\u001b[0m, \u001b[38;5;34m128\u001b[0m)                 │               \u001b[38;5;34m0\u001b[0m │\n",
       "├──────────────────────────────────────┼─────────────────────────────┼─────────────────┤\n",
       "│ dropout_6 (\u001b[38;5;33mDropout\u001b[0m)                  │ (\u001b[38;5;45mNone\u001b[0m, \u001b[38;5;34m128\u001b[0m)                 │               \u001b[38;5;34m0\u001b[0m │\n",
       "├──────────────────────────────────────┼─────────────────────────────┼─────────────────┤\n",
       "│ dense_31 (\u001b[38;5;33mDense\u001b[0m)                     │ (\u001b[38;5;45mNone\u001b[0m, \u001b[38;5;34m64\u001b[0m)                  │           \u001b[38;5;34m8,256\u001b[0m │\n",
       "├──────────────────────────────────────┼─────────────────────────────┼─────────────────┤\n",
       "│ leaky_re_lu_13 (\u001b[38;5;33mLeakyReLU\u001b[0m)           │ (\u001b[38;5;45mNone\u001b[0m, \u001b[38;5;34m64\u001b[0m)                  │               \u001b[38;5;34m0\u001b[0m │\n",
       "├──────────────────────────────────────┼─────────────────────────────┼─────────────────┤\n",
       "│ dropout_7 (\u001b[38;5;33mDropout\u001b[0m)                  │ (\u001b[38;5;45mNone\u001b[0m, \u001b[38;5;34m64\u001b[0m)                  │               \u001b[38;5;34m0\u001b[0m │\n",
       "├──────────────────────────────────────┼─────────────────────────────┼─────────────────┤\n",
       "│ dense_32 (\u001b[38;5;33mDense\u001b[0m)                     │ (\u001b[38;5;45mNone\u001b[0m, \u001b[38;5;34m32\u001b[0m)                  │           \u001b[38;5;34m2,080\u001b[0m │\n",
       "├──────────────────────────────────────┼─────────────────────────────┼─────────────────┤\n",
       "│ dense_33 (\u001b[38;5;33mDense\u001b[0m)                     │ (\u001b[38;5;45mNone\u001b[0m, \u001b[38;5;34m64\u001b[0m)                  │           \u001b[38;5;34m2,112\u001b[0m │\n",
       "├──────────────────────────────────────┼─────────────────────────────┼─────────────────┤\n",
       "│ leaky_re_lu_14 (\u001b[38;5;33mLeakyReLU\u001b[0m)           │ (\u001b[38;5;45mNone\u001b[0m, \u001b[38;5;34m64\u001b[0m)                  │               \u001b[38;5;34m0\u001b[0m │\n",
       "├──────────────────────────────────────┼─────────────────────────────┼─────────────────┤\n",
       "│ dense_34 (\u001b[38;5;33mDense\u001b[0m)                     │ (\u001b[38;5;45mNone\u001b[0m, \u001b[38;5;34m128\u001b[0m)                 │           \u001b[38;5;34m8,320\u001b[0m │\n",
       "├──────────────────────────────────────┼─────────────────────────────┼─────────────────┤\n",
       "│ leaky_re_lu_15 (\u001b[38;5;33mLeakyReLU\u001b[0m)           │ (\u001b[38;5;45mNone\u001b[0m, \u001b[38;5;34m128\u001b[0m)                 │               \u001b[38;5;34m0\u001b[0m │\n",
       "├──────────────────────────────────────┼─────────────────────────────┼─────────────────┤\n",
       "│ dense_35 (\u001b[38;5;33mDense\u001b[0m)                     │ (\u001b[38;5;45mNone\u001b[0m, \u001b[38;5;34m397\u001b[0m)                 │          \u001b[38;5;34m51,213\u001b[0m │\n",
       "└──────────────────────────────────────┴─────────────────────────────┴─────────────────┘\n"
      ]
     },
     "metadata": {},
     "output_type": "display_data"
    },
    {
     "data": {
      "text/html": [
       "<pre style=\"white-space:pre;overflow-x:auto;line-height:normal;font-family:Menlo,'DejaVu Sans Mono',consolas,'Courier New',monospace\"><span style=\"font-weight: bold\"> Total params: </span><span style=\"color: #00af00; text-decoration-color: #00af00\">368,777</span> (1.41 MB)\n",
       "</pre>\n"
      ],
      "text/plain": [
       "\u001b[1m Total params: \u001b[0m\u001b[38;5;34m368,777\u001b[0m (1.41 MB)\n"
      ]
     },
     "metadata": {},
     "output_type": "display_data"
    },
    {
     "data": {
      "text/html": [
       "<pre style=\"white-space:pre;overflow-x:auto;line-height:normal;font-family:Menlo,'DejaVu Sans Mono',consolas,'Courier New',monospace\"><span style=\"font-weight: bold\"> Trainable params: </span><span style=\"color: #00af00; text-decoration-color: #00af00\">122,925</span> (480.18 KB)\n",
       "</pre>\n"
      ],
      "text/plain": [
       "\u001b[1m Trainable params: \u001b[0m\u001b[38;5;34m122,925\u001b[0m (480.18 KB)\n"
      ]
     },
     "metadata": {},
     "output_type": "display_data"
    },
    {
     "data": {
      "text/html": [
       "<pre style=\"white-space:pre;overflow-x:auto;line-height:normal;font-family:Menlo,'DejaVu Sans Mono',consolas,'Courier New',monospace\"><span style=\"font-weight: bold\"> Non-trainable params: </span><span style=\"color: #00af00; text-decoration-color: #00af00\">0</span> (0.00 B)\n",
       "</pre>\n"
      ],
      "text/plain": [
       "\u001b[1m Non-trainable params: \u001b[0m\u001b[38;5;34m0\u001b[0m (0.00 B)\n"
      ]
     },
     "metadata": {},
     "output_type": "display_data"
    },
    {
     "data": {
      "text/html": [
       "<pre style=\"white-space:pre;overflow-x:auto;line-height:normal;font-family:Menlo,'DejaVu Sans Mono',consolas,'Courier New',monospace\"><span style=\"font-weight: bold\"> Optimizer params: </span><span style=\"color: #00af00; text-decoration-color: #00af00\">245,852</span> (960.36 KB)\n",
       "</pre>\n"
      ],
      "text/plain": [
       "\u001b[1m Optimizer params: \u001b[0m\u001b[38;5;34m245,852\u001b[0m (960.36 KB)\n"
      ]
     },
     "metadata": {},
     "output_type": "display_data"
    }
   ],
   "source": [
    "autoencoder.summary()\n"
   ]
  },
  {
   "cell_type": "code",
   "execution_count": 47,
   "id": "13aa104e-f922-4a86-a9d3-b8fd3db6ae6a",
   "metadata": {},
   "outputs": [
    {
     "name": "stdout",
     "output_type": "stream",
     "text": [
      "\u001b[1m189/189\u001b[0m \u001b[32m━━━━━━━━━━━━━━━━━━━━\u001b[0m\u001b[37m\u001b[0m \u001b[1m0s\u001b[0m 669us/step\n"
     ]
    }
   ],
   "source": [
    "# Membangun model encoder\n",
    "encoder = tf.keras.models.Model(input_layer, encoded)\n",
    "\n",
    "# Mendapatkan fitur terkode (encoded features)\n",
    "encoded_features = encoder.predict(X)\n"
   ]
  },
  {
   "cell_type": "code",
   "execution_count": 48,
   "id": "22979337-4f0d-405c-b313-3c064db2e8f2",
   "metadata": {},
   "outputs": [
    {
     "name": "stdout",
     "output_type": "stream",
     "text": [
      "                           Course Name_x  Cluster\n",
      "0      Memulai Pemrograman dengan Kotlin        0\n",
      "1      Memulai Pemrograman dengan Kotlin        0\n",
      "2      Memulai Pemrograman dengan Kotlin        0\n",
      "3      Memulai Pemrograman dengan Kotlin        0\n",
      "4      Memulai Pemrograman dengan Kotlin        0\n",
      "...                                  ...      ...\n",
      "6034  Belajar Strategi Pengembangan Diri        0\n",
      "6035  Belajar Strategi Pengembangan Diri        0\n",
      "6036  Belajar Strategi Pengembangan Diri        0\n",
      "6037  Belajar Strategi Pengembangan Diri        0\n",
      "6038  Belajar Strategi Pengembangan Diri        0\n",
      "\n",
      "[6039 rows x 2 columns]\n"
     ]
    },
    {
     "name": "stderr",
     "output_type": "stream",
     "text": [
      "C:\\Users\\Rico Mesias\\OneDrive\\Documents\\VsCode\\DicodingCompany\\venv\\lib\\site-packages\\sklearn\\base.py:1473: ConvergenceWarning: Number of distinct clusters (1) found smaller than n_clusters (5). Possibly due to duplicate points in X.\n",
      "  return fit_method(estimator, *args, **kwargs)\n"
     ]
    }
   ],
   "source": [
    "# Tentukan jumlah cluster\n",
    "n_clusters = 5\n",
    "\n",
    "# Latih KMeans pada fitur yang terkode\n",
    "kmeans = KMeans(n_clusters=n_clusters, random_state=42)\n",
    "data['Cluster'] = kmeans.fit_predict(encoded_features)\n",
    "\n",
    "# Menyimpan model\n",
    "import joblib\n",
    "joblib.dump(kmeans, 'kmeans_model_tensorflow.pkl')\n",
    "\n",
    "# Melihat hasil clustering\n",
    "print(data[['Course Name_x', 'Cluster']])"
   ]
  },
  {
   "cell_type": "code",
   "execution_count": null,
   "id": "45b68502-6d02-4e31-ad21-1daadf513d5f",
   "metadata": {},
   "outputs": [],
   "source": []
  }
 ],
 "metadata": {
  "kernelspec": {
   "display_name": "Python 3 (ipykernel)",
   "language": "python",
   "name": "python3"
  },
  "language_info": {
   "codemirror_mode": {
    "name": "ipython",
    "version": 3
   },
   "file_extension": ".py",
   "mimetype": "text/x-python",
   "name": "python",
   "nbconvert_exporter": "python",
   "pygments_lexer": "ipython3",
   "version": "3.10.0"
  }
 },
 "nbformat": 4,
 "nbformat_minor": 5
}
